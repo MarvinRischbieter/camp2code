{
 "cells": [
  {
   "cell_type": "markdown",
   "metadata": {},
   "source": [
    "# Tutorial Dekoratoren (Dekorateure)"
   ]
  },
  {
   "cell_type": "markdown",
   "metadata": {},
   "source": [
    "##### Funktionen als Argumente"
   ]
  },
  {
   "cell_type": "code",
   "execution_count": null,
   "metadata": {},
   "outputs": [],
   "source": [
    "# Beispielfunktion mit Funktion als Argument\n",
    "def f1(f,arg=0):\n",
    "    x = f(arg)\n",
    "    print(f'The function {f} with argument \"{arg}\" returns {x}.')\n",
    "    return x"
   ]
  },
  {
   "cell_type": "code",
   "execution_count": null,
   "metadata": {},
   "outputs": [],
   "source": [
    "# Anwendung\n",
    "def func(x):\n",
    "    return x+1\n",
    "f1(func)"
   ]
  },
  {
   "cell_type": "code",
   "execution_count": null,
   "metadata": {},
   "outputs": [],
   "source": [
    "# Anwendung\n",
    "f1(print)"
   ]
  },
  {
   "cell_type": "code",
   "execution_count": null,
   "metadata": {},
   "outputs": [],
   "source": [
    "# Anwendung\n",
    "f1(print,arg='Hallo')"
   ]
  },
  {
   "cell_type": "markdown",
   "metadata": {},
   "source": [
    "##### Funktionen als Rückgabewerte"
   ]
  },
  {
   "cell_type": "code",
   "execution_count": null,
   "metadata": {},
   "outputs": [],
   "source": [
    "# Beispielfunktion: Kreierte Funktion multipliziert mit einem Faktor\n",
    "def f2(factor=1):\n",
    "    def inner_func(x):\n",
    "        return x*factor\n",
    "    return inner_func   # Die innere Funktion ist hier der Rückgabewert!"
   ]
  },
  {
   "cell_type": "code",
   "execution_count": null,
   "metadata": {},
   "outputs": [],
   "source": [
    "# Anwendung\n",
    "m10 = f2(factor=10)\n",
    "m10(2)"
   ]
  },
  {
   "cell_type": "code",
   "execution_count": null,
   "metadata": {},
   "outputs": [],
   "source": [
    "# Anwendung mit Default-Argument\n",
    "m1=f2()\n",
    "m1(2)"
   ]
  },
  {
   "cell_type": "code",
   "execution_count": null,
   "metadata": {},
   "outputs": [],
   "source": [
    "# Anwendung als direkter Aufruf der kreierten Funktion\n",
    "f2(factor=5)(25)"
   ]
  },
  {
   "cell_type": "markdown",
   "metadata": {},
   "source": [
    "##### Dekoratorfunktionen\n",
    "Eine Dekoratorfunktion"
   ]
  },
  {
   "cell_type": "code",
   "execution_count": null,
   "metadata": {},
   "outputs": [],
   "source": [
    "# Beispielfunktion Dekorator\n",
    "def decorator(f):\n",
    "    def func(x):    # Funktion hat nur ein Argument                                \n",
    "        print(f'The function {f} was called!') # Seiteneffekt!\n",
    "        return f(x)\n",
    "    return func"
   ]
  },
  {
   "cell_type": "code",
   "execution_count": null,
   "metadata": {},
   "outputs": [],
   "source": [
    "# Anwendung mit der Funktion print\n",
    "decorated = decorator(print)\n",
    "decorated('Hallo')  # Die dekorierte Funktion kan auch nur ein Argument haben!"
   ]
  },
  {
   "cell_type": "code",
   "execution_count": null,
   "metadata": {},
   "outputs": [],
   "source": [
    "# Beispiele\n",
    "def decorator2(f):\n",
    "    def func(x):    # Funktion hat nur ein Argument\n",
    "        return f(f\"-- {x} --\") # Argument wird erweitert\n",
    "    return func"
   ]
  },
  {
   "cell_type": "code",
   "execution_count": null,
   "metadata": {},
   "outputs": [],
   "source": [
    "# Anwendung mit Funktion print\n",
    "decorated = decorator2(print)\n",
    "decorated('Hallo')"
   ]
  },
  {
   "cell_type": "code",
   "execution_count": null,
   "metadata": {},
   "outputs": [],
   "source": [
    "# Anwendung mit Funktion print als direkter Aufruf\n",
    "decorator2(print)('Guten Tag')"
   ]
  },
  {
   "cell_type": "markdown",
   "metadata": {},
   "source": [
    "##### Umgang mit unbekannten Argumenten - Argumente packen und entpacken "
   ]
  },
  {
   "cell_type": "code",
   "execution_count": null,
   "metadata": {},
   "outputs": [],
   "source": [
    "# Beispielfunktion \n",
    "def f3(*args,**kwargs):   # alle potentiellen Argumente werden abgefangen!\n",
    "    print(f'The function was called with')\n",
    "    print(f' - args {args}')\n",
    "    print(f' - kwargs {kwargs}')\n",
    "\n",
    "# Anwendung \n",
    "f3(1,2,3,a=10,b='Oho!')"
   ]
  },
  {
   "cell_type": "code",
   "execution_count": null,
   "metadata": {},
   "outputs": [],
   "source": [
    "# Beispielfunktion Dekorator für beliebige Anzahl von Funktionsargumenten\n",
    "def decorator3(f):\n",
    "    def func(*args,**kwargs):\n",
    "        print(f'The function {f} was called with')\n",
    "        print(f' - args  {args}')\n",
    "        print(f' - kwargs {kwargs}')\n",
    "        return f(*args,**kwargs)\n",
    "    return func"
   ]
  },
  {
   "cell_type": "code",
   "execution_count": null,
   "metadata": {},
   "outputs": [],
   "source": [
    "# Anwendung\n",
    "def f4(x,y,a=''):\n",
    "    print(x,y,a)\n",
    "\n",
    "df4=decorator3(f4)\n",
    "df4(2,'Rob',100)"
   ]
  },
  {
   "cell_type": "code",
   "execution_count": null,
   "metadata": {},
   "outputs": [],
   "source": [
    "# Anwendung überschreiben der zu dekorierenden Funktionen\n",
    "def f5(x,y,a=''):\n",
    "    print(x,y,a)\n",
    "\n",
    "f5=decorator3(f5)\n",
    "f5(2,'Rob',100)"
   ]
  },
  {
   "cell_type": "code",
   "execution_count": null,
   "metadata": {},
   "outputs": [],
   "source": [
    "# Anwendung mit @-Schreibweise\n",
    "@decorator3\n",
    "def f6(x,y,a=''):\n",
    "    print(x,y,a)\n",
    "\n",
    "f6(1,2,a='Hallo')"
   ]
  },
  {
   "cell_type": "markdown",
   "metadata": {},
   "source": [
    "#### Methoden als Dekoratoren"
   ]
  },
  {
   "cell_type": "code",
   "execution_count": null,
   "metadata": {},
   "outputs": [],
   "source": [
    "# Beispile Methode als Dekorator\n",
    "class A:\n",
    "    def g(self,f):\n",
    "        def func(*args,**kwargs):\n",
    "            print(f'The function {f }was called with args {args} kwargs {kwargs}')\n",
    "            return f(*args,**kwargs)\n",
    "        return func\n",
    "x=A()"
   ]
  },
  {
   "cell_type": "code",
   "execution_count": null,
   "metadata": {},
   "outputs": [],
   "source": [
    "# Anwendung \n",
    "x.g(print)('Hola!')"
   ]
  },
  {
   "cell_type": "code",
   "execution_count": null,
   "metadata": {},
   "outputs": [],
   "source": [
    "# Beispile Methode als Dekorator\n",
    "class B:\n",
    "    def g(self,f):\n",
    "        self.f = f  # zusätzliche Zeile\n",
    "        def func(*args,**kwargs):\n",
    "            print(f'The function {f }was called with args {args} kwargs {kwargs}')\n",
    "            return f(*args,**kwargs)\n",
    "        return func\n",
    "x=B()"
   ]
  },
  {
   "cell_type": "code",
   "execution_count": null,
   "metadata": {},
   "outputs": [],
   "source": [
    "x.g(print)('Buenas dias!')"
   ]
  },
  {
   "cell_type": "code",
   "execution_count": null,
   "metadata": {},
   "outputs": [],
   "source": [
    "x.f # print-Funktion wurde in Objekt a gespeichert"
   ]
  },
  {
   "cell_type": "code",
   "execution_count": null,
   "metadata": {},
   "outputs": [],
   "source": [
    "@x.g\n",
    "def func(x):\n",
    "    return x*2"
   ]
  },
  {
   "cell_type": "code",
   "execution_count": null,
   "metadata": {},
   "outputs": [],
   "source": [
    "x.f(10)"
   ]
  },
  {
   "cell_type": "code",
   "execution_count": null,
   "metadata": {},
   "outputs": [],
   "source": [
    "class C:\n",
    "    def __init__(self):\n",
    "        self.funcs=dict()\n",
    "    def add_function(self,name):\n",
    "        def func(f):\n",
    "            self.funcs[name]=f\n",
    "        return func\n",
    "\n",
    "x = C()\n",
    "\n"
   ]
  },
  {
   "cell_type": "code",
   "execution_count": null,
   "metadata": {},
   "outputs": [],
   "source": [
    "x.add_function('print')(print)"
   ]
  },
  {
   "cell_type": "code",
   "execution_count": null,
   "metadata": {},
   "outputs": [],
   "source": [
    "x.funcs['print']('Daeflksadf')"
   ]
  },
  {
   "cell_type": "code",
   "execution_count": null,
   "metadata": {},
   "outputs": [],
   "source": [
    "x = C()\n",
    "\n",
    "@x.add_function('myfunc')\n",
    "def func(x):\n",
    "    return f\"Das Argument der Funktion ist {x}.\""
   ]
  },
  {
   "cell_type": "code",
   "execution_count": null,
   "metadata": {},
   "outputs": [],
   "source": [
    "x.funcs['myfunc'](12)"
   ]
  },
  {
   "cell_type": "code",
   "execution_count": null,
   "metadata": {},
   "outputs": [],
   "source": []
  }
 ],
 "metadata": {
  "kernelspec": {
   "display_name": "Python 3.8.8 ('work')",
   "language": "python",
   "name": "python3"
  },
  "language_info": {
   "codemirror_mode": {
    "name": "ipython",
    "version": 3
   },
   "file_extension": ".py",
   "mimetype": "text/x-python",
   "name": "python",
   "nbconvert_exporter": "python",
   "pygments_lexer": "ipython3",
   "version": "3.8.8"
  },
  "orig_nbformat": 4,
  "vscode": {
   "interpreter": {
    "hash": "60ef866f0565cdf79d82dee8aac6422d1b1194f045deeb282093e7728ebacaae"
   }
  }
 },
 "nbformat": 4,
 "nbformat_minor": 2
}
