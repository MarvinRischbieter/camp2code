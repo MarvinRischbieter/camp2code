{
 "cells": [
  {
   "cell_type": "markdown",
   "metadata": {},
   "source": [
    "# Tutorial Property"
   ]
  },
  {
   "cell_type": "markdown",
   "metadata": {},
   "source": [
    "Beispielklasse Employee mit ungeregeltem Zugriff auf das Attribut `name`"
   ]
  },
  {
   "cell_type": "code",
   "execution_count": 8,
   "metadata": {},
   "outputs": [],
   "source": [
    "class Employee:\n",
    "    def __init__(self, name):\n",
    "        self.name = name \n",
    "\n",
    "    def __repr__(self):\n",
    "        return f\"EMPLOYEE | NAME: {self.name}\"\n"
   ]
  },
  {
   "cell_type": "code",
   "execution_count": 10,
   "metadata": {},
   "outputs": [
    {
     "name": "stdout",
     "output_type": "stream",
     "text": [
      "EMPLOYEE | NAME: Max\n",
      "EMPLOYEE | NAME: True\n"
     ]
    }
   ],
   "source": [
    "x = Employee('Max')\n",
    "print(x)\n",
    "x.name = True\n",
    "print(x)"
   ]
  },
  {
   "cell_type": "markdown",
   "metadata": {},
   "source": [
    "Verwendung von Methen zur Regelung des zugriffs auf `name`"
   ]
  },
  {
   "cell_type": "code",
   "execution_count": 17,
   "metadata": {},
   "outputs": [],
   "source": [
    "class Employee:\n",
    "    def __init__(self, name):\n",
    "        self._name = name  # Unterstricht deutet an, dass es ein \"Protected Attribut\" ist \n",
    "\n",
    "    def __repr__(self):\n",
    "        return f\"EMPLOYEE | NAME: {self._name}\"\n",
    "\n",
    "    def set_name(self,name):\n",
    "        \"\"\"setter methode\"\"\"\n",
    "        if isinstance(name,str):\n",
    "            self._name = name.upper()\n",
    "        else:\n",
    "            raise TypeError\n",
    "\n",
    "    def get_name(self):\n",
    "        return self._name"
   ]
  },
  {
   "cell_type": "code",
   "execution_count": 27,
   "metadata": {},
   "outputs": [
    {
     "name": "stdout",
     "output_type": "stream",
     "text": [
      "EMPLOYEE | NAME: Max\n",
      "EMPLOYEE | NAME: KLAUS\n",
      "! Achtung TypeError !\n",
      "EMPLOYEE | NAME: KLAUS\n"
     ]
    }
   ],
   "source": [
    "x = Employee('Max')\n",
    "print(x)\n",
    "x.set_name('klaus')\n",
    "print(x)\n",
    "try:\n",
    "    x.set_name(12)\n",
    "except TypeError:\n",
    "    print('! Achtung TypeError !')\n",
    "print(x)"
   ]
  },
  {
   "cell_type": "code",
   "execution_count": 29,
   "metadata": {},
   "outputs": [
    {
     "data": {
      "text/plain": [
       "'KLAUS'"
      ]
     },
     "execution_count": 29,
     "metadata": {},
     "output_type": "execute_result"
    }
   ],
   "source": [
    "x.get_name()"
   ]
  },
  {
   "cell_type": "markdown",
   "metadata": {},
   "source": [
    "## Verwendung als Property\n",
    "- Erlaubt die Verwendung des Zuweisungsoperator `=` mit geregeltem Zugriff\n"
   ]
  },
  {
   "cell_type": "markdown",
   "metadata": {},
   "source": [
    "### Unter Verwendung der BuiltIn-funktion `property`"
   ]
  },
  {
   "cell_type": "code",
   "execution_count": 53,
   "metadata": {},
   "outputs": [],
   "source": [
    "class Employee:\n",
    "    def __init__(self, name):\n",
    "        self._name = name  # Unterstricht deutet an, dass es ein \"Protected Attribut\" ist \n",
    "\n",
    "    def __repr__(self):\n",
    "        return f\"EMPLOYEE | NAME: {self._name}\"\n",
    "\n",
    "    def set_name(self,name):\n",
    "        \"\"\"setter methode\"\"\"\n",
    "        if isinstance(name,str):\n",
    "            self._name = name.upper()\n",
    "        else:\n",
    "            raise TypeError\n",
    "\n",
    "    def get_name(self):\n",
    "        return self._name\n",
    "\n",
    "    name = property(get_name,set_name)"
   ]
  },
  {
   "cell_type": "code",
   "execution_count": 54,
   "metadata": {},
   "outputs": [
    {
     "name": "stdout",
     "output_type": "stream",
     "text": [
      "EMPLOYEE | NAME: Max\n",
      "EMPLOYEE | NAME: KLAUS\n",
      "! Achtung TypeError !\n",
      "EMPLOYEE | NAME: KLAUS\n"
     ]
    }
   ],
   "source": [
    "x = Employee('Max')\n",
    "print(x)\n",
    "x.name='klaus'\n",
    "print(x)\n",
    "try:\n",
    "    x.name=12\n",
    "except TypeError:\n",
    "    print('! Achtung TypeError !')\n",
    "print(x)"
   ]
  },
  {
   "cell_type": "markdown",
   "metadata": {},
   "source": [
    "### Verwendung mit `@`"
   ]
  },
  {
   "cell_type": "code",
   "execution_count": 55,
   "metadata": {},
   "outputs": [],
   "source": [
    "class Employee:\n",
    "    def __init__(self, name):\n",
    "        self._name = name  # Unterstricht deutet an, dass es ein \"Protected Attribut\" ist \n",
    "\n",
    "    def __repr__(self):\n",
    "        return f\"EMPLOYEE | NAME: {self._name}\"\n",
    "\n",
    "    @property\n",
    "    def name(self):\n",
    "        \"getter\"\n",
    "        return self._name\n",
    "\n",
    "    @name.setter\n",
    "    def name(self,name):\n",
    "        \"\"\"setter\"\"\"\n",
    "        if isinstance(name,str):\n",
    "            self._name = name.upper()\n",
    "        else:\n",
    "            raise TypeError"
   ]
  },
  {
   "cell_type": "code",
   "execution_count": 56,
   "metadata": {},
   "outputs": [
    {
     "name": "stdout",
     "output_type": "stream",
     "text": [
      "EMPLOYEE | NAME: Max\n",
      "EMPLOYEE | NAME: KLAUS\n",
      "! Achtung TypeError !\n",
      "EMPLOYEE | NAME: KLAUS\n"
     ]
    }
   ],
   "source": [
    "x = Employee('Max')\n",
    "print(x)\n",
    "x.name='klaus'\n",
    "print(x)\n",
    "try:\n",
    "    x.name=12\n",
    "except TypeError:\n",
    "    print('! Achtung TypeError !')\n",
    "print(x)"
   ]
  },
  {
   "cell_type": "code",
   "execution_count": 32,
   "metadata": {},
   "outputs": [
    {
     "data": {
      "text/plain": [
       "'KLAUS'"
      ]
     },
     "execution_count": 32,
     "metadata": {},
     "output_type": "execute_result"
    }
   ],
   "source": [
    "x.name"
   ]
  },
  {
   "cell_type": "code",
   "execution_count": null,
   "metadata": {},
   "outputs": [],
   "source": []
  }
 ],
 "metadata": {
  "kernelspec": {
   "display_name": "Python 3.9.4 64-bit",
   "language": "python",
   "name": "python3"
  },
  "language_info": {
   "codemirror_mode": {
    "name": "ipython",
    "version": 3
   },
   "file_extension": ".py",
   "mimetype": "text/x-python",
   "name": "python",
   "nbconvert_exporter": "python",
   "pygments_lexer": "ipython3",
   "version": "3.9.4"
  },
  "orig_nbformat": 4,
  "vscode": {
   "interpreter": {
    "hash": "0beb15f1d6c09e36588894b2b4870f2131c47961a4b3f35558d97ea92d9ea3de"
   }
  }
 },
 "nbformat": 4,
 "nbformat_minor": 2
}
